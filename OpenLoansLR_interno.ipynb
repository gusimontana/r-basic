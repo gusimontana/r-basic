{
  "nbformat": 4,
  "nbformat_minor": 0,
  "metadata": {
    "colab": {
      "name": "OpenLoansLR-interno.ipynb",
      "provenance": [],
      "collapsed_sections": [
        "e0EDuyJ6Qw00",
        "5YeIneB4QP4f",
        "CxwEsuplUZ1g",
        "WizLdc1NZqQE",
        "8LCEVVIwVofz",
        "wQxOjoWA7BqC",
        "wbHjrUJEG9SJ"
      ],
      "include_colab_link": true
    },
    "kernelspec": {
      "name": "python3",
      "display_name": "Python 3"
    },
    "language_info": {
      "name": "python"
    }
  },
  "cells": [
    {
      "cell_type": "markdown",
      "metadata": {
        "id": "view-in-github",
        "colab_type": "text"
      },
      "source": [
        "<a href=\"https://colab.research.google.com/github/gusimontana/r-basic/blob/master/OpenLoansLR_interno.ipynb\" target=\"_parent\"><img src=\"https://colab.research.google.com/assets/colab-badge.svg\" alt=\"Open In Colab\"/></a>"
      ]
    },
    {
      "cell_type": "markdown",
      "metadata": {
        "id": "t2OMMzpuQBlA"
      },
      "source": [
        "**Aplicación básica de Regresión Logística Open Loans**\n",
        "\n",
        "La siguiente aplicación, como parte del proceso de acompañamiento de Innovación-Eafit, consiste en un ejercicio básico de modelación de una Regresión Logística para un *Credit Soring de originación*. En el alcance de esta intervención se indicó que la instancia de prueba será *aleatoria*. Sin embargo, para mejor desempeño se utilizará para las pruebas la base de datos \"Admission Predict\", tomada de Kaggle. La descripción de esta base de datos se puede revisar en: https://www.kaggle.com/sagardubey3/admission-prediction-with-linear-regression/data"
      ]
    },
    {
      "cell_type": "markdown",
      "metadata": {
        "id": "e0EDuyJ6Qw00"
      },
      "source": [
        "## 1. Carga de librerías\n",
        "\n",
        "Este paso tiene como objetivo la carga de todas las librerías y funciones necesarias *que ya se encuentran construidas* para el desarrollo del modelo, así como la configuración de algunas de estas librerías para efectos de visualización. \n",
        "\n",
        "---\n"
      ]
    },
    {
      "cell_type": "code",
      "metadata": {
        "id": "9mkI6t_jd6II",
        "colab": {
          "base_uri": "https://localhost:8080/"
        },
        "outputId": "655df036-6ed6-469e-dabc-7def4e508457"
      },
      "source": [
        "import numpy as np # Numpy, librería para análisis de datos.\n",
        "import math as mt # Librería para cálculos matemáticos.\n",
        "from scipy.stats import norm # Scipy, importar fórmula para z-core y p-value de distribución Normal (0,1)\n",
        "\n",
        "import pandas as pd # Pandas, librería para análisis de datos y configuración (a discreción del programador).\n",
        "pd.set_option('display.max_rows', 20) \n",
        "pd.set_option('display.max_columns', 20)\n",
        "pd.set_option('precision',4) # Los números decimales se muestran con 4 decimales.\n",
        "# Más opciones en: https://pandas.pydata.org/pandas-docs/stable/user_guide/options.html\n",
        "\n",
        "from google.colab import files # Carga de archivos.\n",
        "from IPython.display import display # Mostrar DataFrame en Jupyter con presentación especial.\n",
        "import itertools # Librería para generar loops más eficientes.\n",
        "\n",
        "import seaborn as sns # Paquete de graficación.\n",
        "\n",
        "from matplotlib import style # Estilos de gráficos en Matplotlib.\n",
        "import matplotlib.pyplot as plt # Funciones de graficación.\n",
        "# Configuración de Matplotlib (a discreción del programador).\n",
        "plt.rcParams['image.cmap'] = \"gray\" # configura el fondo de la figura.\n",
        "plt.rcParams['figure.dpi'] = \"100\" # configura la resolución de la figura.\n",
        "plt.rcParams['savefig.bbox'] = \"tight\" # se define el cuadro delimitador de una gráfica como \"ajustado\".\n",
        "plt.style.use('ggplot') # se llama el tipo de gráfico ggplot, que tiene unas configuraciones gráficas.\n",
        "# Más opciones en: https://matplotlib.org/stable/tutorials/introductory/customizing.html\n",
        "\n",
        "# Scikit-Learn - Regresión Logística\n",
        "from sklearn.model_selection import train_test_split # Importa la herramienta de particionado de datos.\n",
        "from sklearn.linear_model import LogisticRegression # Importa la regresión logística como clase.\n",
        "# from sklearn.linear_model import LogisticRegressionCV # Importa la regresión logística con validación cruzada como clase.\n",
        "from sklearn.metrics import confusion_matrix, roc_auc_score # Importa el conjunto de indicadores para evaluación de modelos.\n",
        "from sklearn.model_selection import cross_val_predict # Importa la función de predicción bajo validación cruzada.\n",
        "\n",
        "# Scikit-Learn - Árboles de Decisión\n",
        "from sklearn.tree import DecisionTreeClassifier # Importa la clase Árbol de Decisión.\n",
        "from sklearn import tree # se importa la función de árbol de decisión.\n",
        "import graphviz # se importa la función para graficar el árbol de decisión.\n",
        "\n",
        "# Statsmodels - Regresión Logística\n",
        "from statsmodels.tsa.stattools import adfuller # Prueba de hipótesis Dicky-Fuller aumentada.\n",
        "from statsmodels.stats.weightstats import ttest_ind # Prueba de hipótesis t de independencia\n",
        "import statsmodels.api as sm # Importa el modelo logístico."
      ],
      "execution_count": 1,
      "outputs": [
        {
          "output_type": "stream",
          "name": "stderr",
          "text": [
            "/usr/local/lib/python3.7/dist-packages/statsmodels/tools/_testing.py:19: FutureWarning: pandas.util.testing is deprecated. Use the functions in the public API at pandas.testing instead.\n",
            "  import pandas.util.testing as tm\n"
          ]
        }
      ]
    },
    {
      "cell_type": "markdown",
      "metadata": {
        "id": "5YeIneB4QP4f"
      },
      "source": [
        "## 2. Creación de funciones de propósito específico\n",
        "\n",
        "En este paso se crean las funciones específicas que sean requeridas. Para el caso, estas funciones se han realizado específicamente para esta aplicación, con el fin de que tanto el análisis inicial de datos como los resultados del modelo y las pruebas de hipótesis requeridas puedan ejecutarse y visualizarse con mayor facilidad, de modo que el analista pueda tomar decisiones sobre los datos y sobre la pertinencia del modelo.\n",
        "\n",
        "---\n",
        "\n"
      ]
    },
    {
      "cell_type": "code",
      "metadata": {
        "id": "VdysxCtjf3Th"
      },
      "source": [
        "# Realizar histograma de frecuencias de cada campo de un DataFrame.\n",
        "def histogramas(db):\n",
        "  # db: DataFrame\n",
        "  # columnas (int): Número de histogramas a lo ancho.\n",
        "  # ancho - largo (int): tamaño de la figura de salida.\n",
        "  \n",
        "  columnas = 4\n",
        "  filas = mt.ceil(len(db.columns)/columnas) # Número de filas del arreglo de gráficas\n",
        "  \n",
        "  # Generación del arreglo de objetos de gráfico en Matplotlib\n",
        "  fig, axes = plt.subplots(filas, columnas, figsize=(5*columnas, 3*filas))\n",
        "  # Parámetros de espaciado pra las gráficas (a discreción).\n",
        "  plt.subplots_adjust(left=None, bottom=None, right=None, top=None, wspace=0.5, hspace=0.5)\n",
        "  \n",
        "  # Contador para recorrer las variables independientes\n",
        "  contador = 0\n",
        "  # Ciclo de generación de gráficos y almacenamiento en arreglo de objetos tipo gráfico.\n",
        "  for i in range(filas): # Recorrido en filas.\n",
        "    for j in range(columnas): # Recorrido en columnas.\n",
        "      ax = axes[i][j] # Ubicación de gráfico en arreglo Axes de Matplotlib.\n",
        "      if contador < len(db.columns): # Condición para generar tantos histogramas como columnas.\n",
        "        ax.hist(db[db.columns[contador]], histtype='bar', ec='black', bins='auto', color='gray', alpha=0.8) # Histograma.\n",
        "        ax.set_xlabel(db.columns[contador]) # Eje horizontal.\n",
        "        ax.set_ylabel('Frecuencia') # Eje vertical.\n",
        "        ax.set_title('Histograma') # Título.\n",
        "        contador += 1 # Aumento en el contador para pasar a la siguiente figura\n",
        "      else: # Si no cumple entonces no asignar gráfico y aumento de contador.\n",
        "        ax.set_axis_off()\n",
        "        contador += 1\n",
        "  print(\"\")\n",
        "  print(\"Histogramas de frecuencias para columnas del DataFrame\", )\n",
        "  print(\"\")\n",
        "  plt.show() # Mostrar gráfico consolidado.\n",
        "\n",
        "# Función para imprimir Aceptar o Rechazar una hipotesis nula, de acuerdo con el nivel de significancia designado.\n",
        "def hipotesis(p_valor,NSignificancia): \n",
        "  # p_valor (float): es el p-value de una prueba estadística\n",
        "  # significancia (float): es el nivel de significancia de la prueba\n",
        "\n",
        "  if p_valor > NSignificancia:\n",
        "    return 'Aceptar Ho'\n",
        "  else:\n",
        "    return 'Rechazar Ho'\n",
        "\n",
        "# Función de prueba Dickey-Fuller aumentada.\n",
        "# Requiere siempre este llamado: from statsmodels.tsa.stattools import adfuller\n",
        "def dickey_fuller(db,NSignificancia):\n",
        "  # db: Columna de DataFrame para prueba de Dickey-Fulller.\n",
        "  # NSignificancia (float): es el nivel de significancia de la prueba\n",
        "\n",
        "  PruebaDF = adfuller(db) #función que evalúa la prueba Dickey-Fuller.\n",
        "  \n",
        "  df_results = pd.DataFrame(columns=['Variable','Valor']) # Creación de DataFrame de resultados vacío.\n",
        "  # df_results.style.set_table_attributes(\"style='display:inline; font-size:110%'\").set_caption('Prueba Dickey-Fuller Aumentada')._repr_html_()\n",
        "  \n",
        "  # Creación de filas asociada a la columna \"Variable\"\n",
        "  Index_AdFuller = ['Ho',\n",
        "                    'Estadístico DFA',\n",
        "                    'p-value',\n",
        "                    'Significancia',\n",
        "                    'Concepto',\n",
        "                    'Valor Crítico 1%',\n",
        "                    'Valor Crítico 5%',\n",
        "                    'Valor Crítico 10%']\n",
        "  \n",
        "  # Creación de filas asociada a la columna \"Valor\"\n",
        "  Valor_AdFuller = ['La serie de tiempo es estacional', \n",
        "                    PruebaDF[0],\n",
        "                    PruebaDF[1],\n",
        "                    Nivel_significancia,\n",
        "                    hipotesis(PruebaDF[1],NSignificancia),\n",
        "                    PruebaDF[4]['1%'],\n",
        "                    PruebaDF[4]['5%'],\n",
        "                    PruebaDF[4]['10%']]\n",
        "  \n",
        "  for n, m in zip(Index_AdFuller, Valor_AdFuller): # Cruce valores de \"Variable\" y de \"Valor\"\n",
        "    df_results = df_results.append({'Variable': n, 'Valor': m}, ignore_index=True) # Añadir cruce como fila a resultados\"\n",
        "  \n",
        "  print(\"Prueba de estacionareidad Dickey-Fuller aumentada (DFA).\")\n",
        "  print(\"Hipótesis Nula (Ho): La serie de tiempo es estacional.\")\n",
        "  print(\"Nivel de significancia: \", NSignificancia)\n",
        "\n",
        "  return df_results\n",
        "\n",
        "# Función de prueba t de independencia.\n",
        "# Requiere siempre esta llamado: from statsmodels.stats.weightstats import ttest_ind\n",
        "def prueba_t_ind(db,NSignificancia):\n",
        "  # db: DataFrame para prueba t de independencia.\n",
        "  # db: Se asume que en la última columna se encuentra la variable dependiente, y las demás son las variables independientes.\n",
        "  # NSignificancia (float): es el nivel de significancia de la prueba\n",
        " \n",
        "  # Creación de DataFrame de resultados de la prueba.\n",
        "  t = pd.DataFrame(columns=['Variable', # Variable independiente.\n",
        "                            'Estadístico t', # Estadístico de prueba.\n",
        "                            'p-value', # Valor p.\n",
        "                            'Concepto']) # Concepto de aceptación o rezhaco, de acuerdo con el nivel de significancia.\n",
        "  \n",
        "  # Ciclo para realizar la prueba en cada columna.\n",
        "  for a in db.columns[0:-1]:\n",
        "    # Aplicación de prueba t de statmodels.\n",
        "    res_ttest = ttest_ind(x1 = db.loc[db[db.columns[-1]]==1,a],x2 = db.loc[db[db.columns[-1]]==0,a],alternative='two-sided')\n",
        "    # Asignación de valores a las variables de la tabla descritas para cada columna.\n",
        "    t = t.append({'Variable': a,\n",
        "                  'Estadístico t': res_ttest[0],\n",
        "                  'p-value': res_ttest[1],\n",
        "                  'Concepto': hipotesis(res_ttest[1],NSignificancia)},\n",
        "                 ignore_index=True)\n",
        "  \n",
        "  print(\"Prueba t de inedpendencia.\")\n",
        "  print(\"Hipótesis Nula (Ho): No hay independencia entre variables.\")\n",
        "  print(\"Nivel de significancia: \", NSignificancia)\n",
        "  return t\n",
        "\n",
        "# Función para normalizar columnas en un DataFrame de Pandas (sólo debe tener valores numéricos).\n",
        "def normalize(df):\n",
        "  \n",
        "  PruebaDF = df.copy() # genera una copia del DataFrame.\n",
        "  \n",
        "  # Normalización en cada columna\n",
        "  for feature_name in df.columns:\n",
        "    PruebaDF[feature_name] = (df[feature_name] - df[feature_name].min()) / (df[feature_name].max() - df[feature_name].min())\n",
        "  \n",
        "  return PruebaDF\n",
        "\n",
        "# Función para graficar matriz de confusión para el caso de una variable dicotómica.\n",
        "def plot_confusion_matrix(cm, classes,normalize=False,title='Matriz de confusión',cmap=plt.cm.Blues):\n",
        "  plt.imshow(cm, interpolation='nearest', cmap=cmap)\n",
        "  plt.title(title)\n",
        "  plt.colorbar()\n",
        "  tick_marks = np.arange(len(classes))\n",
        "  plt.xticks(tick_marks, classes, rotation=45)\n",
        "  plt.yticks(tick_marks, classes)\n",
        "  \n",
        "  if normalize:\n",
        "    cm = cm.astype('float') / cm.sum(axis=1)[:, np.newaxis]\n",
        "  thresh = cm.max() / 2.\n",
        "  \n",
        "  for i, j in itertools.product(range(cm.shape[0]), range(cm.shape[1])):\n",
        "    plt.text(j, i, cm[i, j],horizontalalignment=\"center\",color=\"white\" if cm[i, j] > thresh else \"black\")\n",
        "    plt.tight_layout()\n",
        "    plt.ylabel('Valores reales')\n",
        "    plt.xlabel('Valores predichos')\n",
        "  \n",
        "  np.set_printoptions(precision=2)\n",
        "\n",
        "# Función de test de Wald, asumiendo que el estimador es igual a cero (es decir, que la variable\n",
        "# no es significativa en un modelo).\n",
        "def wald_pvalue(model, X):\n",
        "    p = model.predict_proba(X) # estimación del modelo basada en probabilidad \n",
        "    n = len(p) # tamñao de la muestra\n",
        "    m = len(model.coef_[0]) + 1 # número de betas en el modelo (para incluir intercepto)\n",
        "    coefs = np.concatenate([model.intercept_, model.coef_[0]]) # matriz para juntar betas.\n",
        "    x_full = np.matrix(np.insert(np.array(X), 0, 1, axis = 1)) # \n",
        "    ans = np.zeros((m, m))\n",
        "    for i in range(n):\n",
        "        ans = ans + np.dot(np.transpose(x_full[i, :]), x_full[i, :]) * p[i,1] * p[i, 0]\n",
        "    vcov = np.linalg.inv(np.matrix(ans))\n",
        "    se = np.sqrt(np.diag(vcov))\n",
        "    t =  coefs/se  \n",
        "    p = (1 - norm.cdf(abs(t))) * 2\n",
        "    return p\n",
        "\n",
        "# Función para calcular el indicador Gini normalizado, con base en el indicador Auroc de Scikit Learn.\n",
        "def gini_normalized(y_actual, y_pred):\n",
        "    gini = lambda a, p: 2 * roc_auc_score(a, p) - 1\n",
        "    return gini(y_actual, y_pred) / gini(y_actual, y_actual)\n",
        "\n",
        "# Indicadores de desempeño de regresión logística.\n",
        "def indicadores_rl(y_test, y_pred):\n",
        "  \n",
        "  # cálculo de la matriz de confusión de Scikit Leanr\n",
        "  matriz_c = confusion_matrix(y_test, y_pred)\n",
        "  \n",
        "  # Carga de archivo de resultados con nombre de columnas.\n",
        "  Ind_RL = pd.DataFrame(columns=['Indicador','Descripción','Fórmula','Valor'])\n",
        "  \n",
        "  # a1 = accuracy_score(y_te,y_pre)\n",
        "  # f1 = f1_score(y_te, y_pre, average=\"macro\")\n",
        "  # p1 = precision_score(y_te, y_pre, average=\"macro\")\n",
        "  # r1 = recall_score(y_te, y_pre, average=\"macro\")\n",
        "\n",
        "  # Primera fila: nombre del indicador.\n",
        "  Indicadores = ['Precisión',\n",
        "                 'Exactitud',\n",
        "                 'Especificidad',\n",
        "                 'Sensibilidad',\n",
        "                 'Auroc',\n",
        "                 'Gini']\n",
        "\n",
        "  # Seguda fila: descripción del indicador.  \n",
        "  Descripcion = ['Porcentaje de casos positivos detectados',\n",
        "                 'Tasa de exito en predicciones',\n",
        "                 'Tasa de éxito de verdaderos negativos',\n",
        "                 'Tasa de éxito de verdaderos positivos',\n",
        "                 'Auroc',\n",
        "                 'Gini']\n",
        "\n",
        "  # Tercera fila: fórmula del indicador.\n",
        "  Formula = ['VP/(VP+FP)',\n",
        "             '(VP + VN)/(VP+VN+FV+FN)',\n",
        "             'VN/(VN+FP).',\n",
        "             'VP/(VP+FN)',\n",
        "             'Auroc',\n",
        "             '2Auroc - 1']\n",
        "\n",
        "  # Cuarta fila: valor del indicador.\n",
        "  Metricas = [matriz_c[1][1]/(matriz_c[0][1]+matriz_c[1][1]),\n",
        "              (matriz_c[0][0]+matriz_c[1][1])/np.sum(matriz_c),\n",
        "              matriz_c[0][0]/(matriz_c[0][0]+matriz_c[0][1]),\n",
        "              matriz_c[1][1]/(matriz_c[1][1]+matriz_c[1][0]),\n",
        "              roc_auc_score(y_test,y_pred),\n",
        "              gini_normalized(y_test, y_pred)]\n",
        "  \n",
        "  # Llenado de la matriz de resultados acoplando los valores de cada columna.\n",
        "  for n, m, k, l in zip(Indicadores, Descripcion, Formula, Metricas):\n",
        "    Ind_RL = Ind_RL.append({'Indicador': n, 'Descripción': m, 'Fórmula' : k, 'Valor': l}, ignore_index=True)\n",
        "  \n",
        "  # Impresión de valores.\n",
        "  print(\"Indicadores de desempeño basados en valores predichos y reales.\")\n",
        "  display(Ind_RL)\n",
        "  display(plot_confusion_matrix(matriz_c, classes=[0,1]))\n",
        "\n",
        "def coef_rl(model,X):\n",
        "  Wald = wald_pvalue(model,X)\n",
        "  Coef_RL = pd.DataFrame(columns=['Coeficiente','Valor','P-Value Wald Test','Concepto'])\n",
        "  Coef_RL = Coef_RL.append({'Coeficiente': 'Intercepto', 'Valor': model.intercept_[0],'P-Value Wald Test': Wald[0],'Concepto': 0},\n",
        "                         ignore_index=True)\n",
        "  Contador = 0\n",
        "  for i in data.columns[0:-1]:\n",
        "    Coef_RL = Coef_RL.append({'Coeficiente': i,'Valor': model.coef_[0][Contador],'P-Value Wald Test': Wald[Contador+1],'Concepto': hipotesis(Wald[Contador+1],Nivel_significancia)},\n",
        "                             ignore_index=True)\n",
        "    Contador += 1\n",
        "      \n",
        "  print(\"Test de Wald para significancia de coeficientes.\")\n",
        "  print(\"Hipótesis Nula (Ho): La variable no es significativa en el modelo.\")\n",
        "  print(\"Nivel de significancia: \", Nivel_significancia)\n",
        "  return display(Coef_RL)"
      ],
      "execution_count": 2,
      "outputs": []
    },
    {
      "cell_type": "markdown",
      "metadata": {
        "id": "RHtxWdyLQeru"
      },
      "source": [
        "## 3. Carga de archivos y creación de DataFrames.\n",
        "\n",
        "En este paso se habilita la función de cargar archivos directamente a Jupyter. Se han considerado dos archivos:\n",
        "\n",
        "- El primero, \"data.csv\", contiene las variables de modelo, tanto las variables independientes (x1... xn) como la dependiente (y), de la sigueinte forma#\n",
        "\n",
        " x1, x2..., xn, y -----> donde cada variable es una columna. Se recuerda que la columna \"y\" es una variable dicotómica, que toma valores de cero (0) y uno (1).\n",
        "\n",
        "- El segundo, \"df_test\", contiene una o varias columnas a las que deba realizarse la prueba de Dickey-Fuller aumentada para verificar estacionalidad. Este DataFrame es para validación.\n",
        "\n",
        "Por otra parte, el Nivel de Significancia a trabajar se ingresa en el código (variable \"Nivel_significancia\").\n",
        "\n",
        "---\n",
        "\n",
        "*Con el fin de hacer diversas pruebas con la base de datos \"Admission Predict\", la cual tiene una columna de probabilidad de admisión a la universidad (columna \"CHANCE\"), se ha creado la variable \"Umbral_data\" para asignar a la variable dependiente (columna \"Admitido\") el valor de 1 si el valor de la columna \"CHANCE\" es mayor o igual el valor \"Umbral_data\", y cero en caso contrario. Para conservar la consistencia de la base de datos, una vez se etiquetan los datos en la columna \"Admitido\", se borra la columna \"CHANCE\". Para usos posteriores con la base de datos tal como se indicó, se puede prescindir del código indicado que sólo es aplicable para este ejemplo.*\n",
        "\n",
        "---\n",
        "\n",
        "\n",
        "\n"
      ]
    },
    {
      "cell_type": "code",
      "metadata": {
        "id": "-pB4IZSgnoWF",
        "colab": {
          "resources": {
            "http://localhost:8080/nbextensions/google.colab/files.js": {
              "data": "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",
              "ok": true,
              "headers": [
                [
                  "content-type",
                  "application/javascript"
                ]
              ],
              "status": 200,
              "status_text": ""
            }
          },
          "base_uri": "https://localhost:8080/",
          "height": 463
        },
        "outputId": "e253fe69-35be-4fdb-a2f5-5cbc7e4e86b3"
      },
      "source": [
        "# Creación de variable para el nivel de significancia asociado al modelo.\n",
        "Nivel_significancia = 0.05\n",
        "\n",
        "files.upload() #con esta instrucción se genera un vínculo para cargar archivos\n",
        "\n",
        "data = pd.read_csv(\"data.csv\",delimiter=\";\") # Pandas - Lectura de CSV de datos de admisión\n",
        "data = pd.DataFrame(data) #Pandas - Creación de DataFrame.\n",
        "\n",
        "df_test = pd.read_csv(\"df_test.csv\",delimiter=\";\") # Pandas - Lectura de CSV de serie estacional\n",
        "df_test = pd.DataFrame(df_test) #Pandas - Creación de DataFrame.\n",
        "\n",
        "# ESTO SÓLO APLICA PARA EL EJEMPLO. CUANDO SE RECIBA LOS DATOS ESTAS LÍNEAS DE CÓDIGO DE DE AQUÍ EN ADELANTE SE DEBEN COMENTARIAR.\n",
        "Umbral_data = 0.85 # Creación de variable umbral para admisión.\n",
        "# Creación de campo de corte para admisión: si la probabilidad es mayor al umbral es admitido (1), en caso contrario no es admitido (0).\n",
        "data['Admitido'] = np.where(data['CHANCE']>=Umbral_data,1,0) \n",
        "data = data.loc[:, data.columns != 'CHANCE']"
      ],
      "execution_count": 3,
      "outputs": [
        {
          "output_type": "display_data",
          "data": {
            "text/html": [
              "\n",
              "     <input type=\"file\" id=\"files-04a0f4c3-a351-47c4-9441-09651f69229f\" name=\"files[]\" multiple disabled\n",
              "        style=\"border:none\" />\n",
              "     <output id=\"result-04a0f4c3-a351-47c4-9441-09651f69229f\">\n",
              "      Upload widget is only available when the cell has been executed in the\n",
              "      current browser session. Please rerun this cell to enable.\n",
              "      </output>\n",
              "      <script src=\"/nbextensions/google.colab/files.js\"></script> "
            ],
            "text/plain": [
              "<IPython.core.display.HTML object>"
            ]
          },
          "metadata": {}
        },
        {
          "output_type": "error",
          "ename": "FileNotFoundError",
          "evalue": "ignored",
          "traceback": [
            "\u001b[0;31m---------------------------------------------------------------------------\u001b[0m",
            "\u001b[0;31mFileNotFoundError\u001b[0m                         Traceback (most recent call last)",
            "\u001b[0;32m<ipython-input-3-3744eec40e96>\u001b[0m in \u001b[0;36m<module>\u001b[0;34m()\u001b[0m\n\u001b[1;32m      4\u001b[0m \u001b[0mfiles\u001b[0m\u001b[0;34m.\u001b[0m\u001b[0mupload\u001b[0m\u001b[0;34m(\u001b[0m\u001b[0;34m)\u001b[0m \u001b[0;31m#con esta instrucción se genera un vínculo para cargar archivos\u001b[0m\u001b[0;34m\u001b[0m\u001b[0;34m\u001b[0m\u001b[0m\n\u001b[1;32m      5\u001b[0m \u001b[0;34m\u001b[0m\u001b[0m\n\u001b[0;32m----> 6\u001b[0;31m \u001b[0mdata\u001b[0m \u001b[0;34m=\u001b[0m \u001b[0mpd\u001b[0m\u001b[0;34m.\u001b[0m\u001b[0mread_csv\u001b[0m\u001b[0;34m(\u001b[0m\u001b[0;34m\"data.csv\"\u001b[0m\u001b[0;34m,\u001b[0m\u001b[0mdelimiter\u001b[0m\u001b[0;34m=\u001b[0m\u001b[0;34m\";\"\u001b[0m\u001b[0;34m)\u001b[0m \u001b[0;31m# Pandas - Lectura de CSV de datos de admisión\u001b[0m\u001b[0;34m\u001b[0m\u001b[0;34m\u001b[0m\u001b[0m\n\u001b[0m\u001b[1;32m      7\u001b[0m \u001b[0mdata\u001b[0m \u001b[0;34m=\u001b[0m \u001b[0mpd\u001b[0m\u001b[0;34m.\u001b[0m\u001b[0mDataFrame\u001b[0m\u001b[0;34m(\u001b[0m\u001b[0mdata\u001b[0m\u001b[0;34m)\u001b[0m \u001b[0;31m#Pandas - Creación de DataFrame.\u001b[0m\u001b[0;34m\u001b[0m\u001b[0;34m\u001b[0m\u001b[0m\n\u001b[1;32m      8\u001b[0m \u001b[0;34m\u001b[0m\u001b[0m\n",
            "\u001b[0;32m/usr/local/lib/python3.7/dist-packages/pandas/io/parsers.py\u001b[0m in \u001b[0;36mread_csv\u001b[0;34m(filepath_or_buffer, sep, delimiter, header, names, index_col, usecols, squeeze, prefix, mangle_dupe_cols, dtype, engine, converters, true_values, false_values, skipinitialspace, skiprows, skipfooter, nrows, na_values, keep_default_na, na_filter, verbose, skip_blank_lines, parse_dates, infer_datetime_format, keep_date_col, date_parser, dayfirst, cache_dates, iterator, chunksize, compression, thousands, decimal, lineterminator, quotechar, quoting, doublequote, escapechar, comment, encoding, dialect, error_bad_lines, warn_bad_lines, delim_whitespace, low_memory, memory_map, float_precision)\u001b[0m\n\u001b[1;32m    686\u001b[0m     )\n\u001b[1;32m    687\u001b[0m \u001b[0;34m\u001b[0m\u001b[0m\n\u001b[0;32m--> 688\u001b[0;31m     \u001b[0;32mreturn\u001b[0m \u001b[0m_read\u001b[0m\u001b[0;34m(\u001b[0m\u001b[0mfilepath_or_buffer\u001b[0m\u001b[0;34m,\u001b[0m \u001b[0mkwds\u001b[0m\u001b[0;34m)\u001b[0m\u001b[0;34m\u001b[0m\u001b[0;34m\u001b[0m\u001b[0m\n\u001b[0m\u001b[1;32m    689\u001b[0m \u001b[0;34m\u001b[0m\u001b[0m\n\u001b[1;32m    690\u001b[0m \u001b[0;34m\u001b[0m\u001b[0m\n",
            "\u001b[0;32m/usr/local/lib/python3.7/dist-packages/pandas/io/parsers.py\u001b[0m in \u001b[0;36m_read\u001b[0;34m(filepath_or_buffer, kwds)\u001b[0m\n\u001b[1;32m    452\u001b[0m \u001b[0;34m\u001b[0m\u001b[0m\n\u001b[1;32m    453\u001b[0m     \u001b[0;31m# Create the parser.\u001b[0m\u001b[0;34m\u001b[0m\u001b[0;34m\u001b[0m\u001b[0;34m\u001b[0m\u001b[0m\n\u001b[0;32m--> 454\u001b[0;31m     \u001b[0mparser\u001b[0m \u001b[0;34m=\u001b[0m \u001b[0mTextFileReader\u001b[0m\u001b[0;34m(\u001b[0m\u001b[0mfp_or_buf\u001b[0m\u001b[0;34m,\u001b[0m \u001b[0;34m**\u001b[0m\u001b[0mkwds\u001b[0m\u001b[0;34m)\u001b[0m\u001b[0;34m\u001b[0m\u001b[0;34m\u001b[0m\u001b[0m\n\u001b[0m\u001b[1;32m    455\u001b[0m \u001b[0;34m\u001b[0m\u001b[0m\n\u001b[1;32m    456\u001b[0m     \u001b[0;32mif\u001b[0m \u001b[0mchunksize\u001b[0m \u001b[0;32mor\u001b[0m \u001b[0miterator\u001b[0m\u001b[0;34m:\u001b[0m\u001b[0;34m\u001b[0m\u001b[0;34m\u001b[0m\u001b[0m\n",
            "\u001b[0;32m/usr/local/lib/python3.7/dist-packages/pandas/io/parsers.py\u001b[0m in \u001b[0;36m__init__\u001b[0;34m(self, f, engine, **kwds)\u001b[0m\n\u001b[1;32m    946\u001b[0m             \u001b[0mself\u001b[0m\u001b[0;34m.\u001b[0m\u001b[0moptions\u001b[0m\u001b[0;34m[\u001b[0m\u001b[0;34m\"has_index_names\"\u001b[0m\u001b[0;34m]\u001b[0m \u001b[0;34m=\u001b[0m \u001b[0mkwds\u001b[0m\u001b[0;34m[\u001b[0m\u001b[0;34m\"has_index_names\"\u001b[0m\u001b[0;34m]\u001b[0m\u001b[0;34m\u001b[0m\u001b[0;34m\u001b[0m\u001b[0m\n\u001b[1;32m    947\u001b[0m \u001b[0;34m\u001b[0m\u001b[0m\n\u001b[0;32m--> 948\u001b[0;31m         \u001b[0mself\u001b[0m\u001b[0;34m.\u001b[0m\u001b[0m_make_engine\u001b[0m\u001b[0;34m(\u001b[0m\u001b[0mself\u001b[0m\u001b[0;34m.\u001b[0m\u001b[0mengine\u001b[0m\u001b[0;34m)\u001b[0m\u001b[0;34m\u001b[0m\u001b[0;34m\u001b[0m\u001b[0m\n\u001b[0m\u001b[1;32m    949\u001b[0m \u001b[0;34m\u001b[0m\u001b[0m\n\u001b[1;32m    950\u001b[0m     \u001b[0;32mdef\u001b[0m \u001b[0mclose\u001b[0m\u001b[0;34m(\u001b[0m\u001b[0mself\u001b[0m\u001b[0;34m)\u001b[0m\u001b[0;34m:\u001b[0m\u001b[0;34m\u001b[0m\u001b[0;34m\u001b[0m\u001b[0m\n",
            "\u001b[0;32m/usr/local/lib/python3.7/dist-packages/pandas/io/parsers.py\u001b[0m in \u001b[0;36m_make_engine\u001b[0;34m(self, engine)\u001b[0m\n\u001b[1;32m   1178\u001b[0m     \u001b[0;32mdef\u001b[0m \u001b[0m_make_engine\u001b[0m\u001b[0;34m(\u001b[0m\u001b[0mself\u001b[0m\u001b[0;34m,\u001b[0m \u001b[0mengine\u001b[0m\u001b[0;34m=\u001b[0m\u001b[0;34m\"c\"\u001b[0m\u001b[0;34m)\u001b[0m\u001b[0;34m:\u001b[0m\u001b[0;34m\u001b[0m\u001b[0;34m\u001b[0m\u001b[0m\n\u001b[1;32m   1179\u001b[0m         \u001b[0;32mif\u001b[0m \u001b[0mengine\u001b[0m \u001b[0;34m==\u001b[0m \u001b[0;34m\"c\"\u001b[0m\u001b[0;34m:\u001b[0m\u001b[0;34m\u001b[0m\u001b[0;34m\u001b[0m\u001b[0m\n\u001b[0;32m-> 1180\u001b[0;31m             \u001b[0mself\u001b[0m\u001b[0;34m.\u001b[0m\u001b[0m_engine\u001b[0m \u001b[0;34m=\u001b[0m \u001b[0mCParserWrapper\u001b[0m\u001b[0;34m(\u001b[0m\u001b[0mself\u001b[0m\u001b[0;34m.\u001b[0m\u001b[0mf\u001b[0m\u001b[0;34m,\u001b[0m \u001b[0;34m**\u001b[0m\u001b[0mself\u001b[0m\u001b[0;34m.\u001b[0m\u001b[0moptions\u001b[0m\u001b[0;34m)\u001b[0m\u001b[0;34m\u001b[0m\u001b[0;34m\u001b[0m\u001b[0m\n\u001b[0m\u001b[1;32m   1181\u001b[0m         \u001b[0;32melse\u001b[0m\u001b[0;34m:\u001b[0m\u001b[0;34m\u001b[0m\u001b[0;34m\u001b[0m\u001b[0m\n\u001b[1;32m   1182\u001b[0m             \u001b[0;32mif\u001b[0m \u001b[0mengine\u001b[0m \u001b[0;34m==\u001b[0m \u001b[0;34m\"python\"\u001b[0m\u001b[0;34m:\u001b[0m\u001b[0;34m\u001b[0m\u001b[0;34m\u001b[0m\u001b[0m\n",
            "\u001b[0;32m/usr/local/lib/python3.7/dist-packages/pandas/io/parsers.py\u001b[0m in \u001b[0;36m__init__\u001b[0;34m(self, src, **kwds)\u001b[0m\n\u001b[1;32m   2008\u001b[0m         \u001b[0mkwds\u001b[0m\u001b[0;34m[\u001b[0m\u001b[0;34m\"usecols\"\u001b[0m\u001b[0;34m]\u001b[0m \u001b[0;34m=\u001b[0m \u001b[0mself\u001b[0m\u001b[0;34m.\u001b[0m\u001b[0musecols\u001b[0m\u001b[0;34m\u001b[0m\u001b[0;34m\u001b[0m\u001b[0m\n\u001b[1;32m   2009\u001b[0m \u001b[0;34m\u001b[0m\u001b[0m\n\u001b[0;32m-> 2010\u001b[0;31m         \u001b[0mself\u001b[0m\u001b[0;34m.\u001b[0m\u001b[0m_reader\u001b[0m \u001b[0;34m=\u001b[0m \u001b[0mparsers\u001b[0m\u001b[0;34m.\u001b[0m\u001b[0mTextReader\u001b[0m\u001b[0;34m(\u001b[0m\u001b[0msrc\u001b[0m\u001b[0;34m,\u001b[0m \u001b[0;34m**\u001b[0m\u001b[0mkwds\u001b[0m\u001b[0;34m)\u001b[0m\u001b[0;34m\u001b[0m\u001b[0;34m\u001b[0m\u001b[0m\n\u001b[0m\u001b[1;32m   2011\u001b[0m         \u001b[0mself\u001b[0m\u001b[0;34m.\u001b[0m\u001b[0munnamed_cols\u001b[0m \u001b[0;34m=\u001b[0m \u001b[0mself\u001b[0m\u001b[0;34m.\u001b[0m\u001b[0m_reader\u001b[0m\u001b[0;34m.\u001b[0m\u001b[0munnamed_cols\u001b[0m\u001b[0;34m\u001b[0m\u001b[0;34m\u001b[0m\u001b[0m\n\u001b[1;32m   2012\u001b[0m \u001b[0;34m\u001b[0m\u001b[0m\n",
            "\u001b[0;32mpandas/_libs/parsers.pyx\u001b[0m in \u001b[0;36mpandas._libs.parsers.TextReader.__cinit__\u001b[0;34m()\u001b[0m\n",
            "\u001b[0;32mpandas/_libs/parsers.pyx\u001b[0m in \u001b[0;36mpandas._libs.parsers.TextReader._setup_parser_source\u001b[0;34m()\u001b[0m\n",
            "\u001b[0;31mFileNotFoundError\u001b[0m: [Errno 2] No such file or directory: 'data.csv'"
          ]
        }
      ]
    },
    {
      "cell_type": "markdown",
      "metadata": {
        "id": "9hMpi1FmUQBf"
      },
      "source": [
        "## 4. Exploración de Datos (I).\n",
        "\n",
        "En este paso se ejecutra una visualización de los datos cargados, una función creada para correr en ciclo los histogramas que permiten caracterizar las variables del modelo, y visualizar su relación uno-a-uno para verificar si hay o no una relación monótona. El usuario puede aquí trabajar a voluntad para explorar o transformar la data, de acuerdo con las premisas del modelo y principios de Data Cleaning. Al tener una base de datos consistente, no se han hecho ejercicios de este tipo.\n",
        "\n",
        "---\n",
        "\n"
      ]
    },
    {
      "cell_type": "code",
      "metadata": {
        "id": "tUYfhNO81C9b"
      },
      "source": [
        "# Información general de la data.\n",
        "data.info()\n",
        "display(data)\n",
        "display(data.describe())\n",
        "# Graficación - Matplotlib - Histogramas de frecuencia de variables independientes.\n",
        "histogramas(data) # Entradas: data, ancho y largo de la salida (debe ajustarse manualmente).\n",
        "\n",
        "df_test.info()\n",
        "display(df_test)\n",
        "display(df_test.describe())"
      ],
      "execution_count": null,
      "outputs": []
    },
    {
      "cell_type": "code",
      "metadata": {
        "id": "kAPAW1cWXMdI"
      },
      "source": [
        "# Graficación - Seaborn - Revisión de variables para dicotomizar.\n",
        "sns.pairplot(data,hue=data.columns[-1]) # Se aplica la función de histograma para las variables de entrada"
      ],
      "execution_count": null,
      "outputs": []
    },
    {
      "cell_type": "markdown",
      "metadata": {
        "id": "CxwEsuplUZ1g"
      },
      "source": [
        "## 5. Pruebas de hipótesis antes de la corrida de un modelo.\n",
        "\n",
        "En este paso se realizan dos pruebas de hipótesis: la prueba Dickey-Fuller aumentada para verificar estacionalidad (y de este modo verificar que la serie de tiempo de evaluación del modelo no tenga estacionalidad), y la evaluación de independiencia de las variables independientes de la variable dependiente.\n",
        "\n",
        "---\n",
        "\n",
        "\n"
      ]
    },
    {
      "cell_type": "code",
      "metadata": {
        "id": "ZCLPZ9YvL1u4"
      },
      "source": [
        "# Exploración de la variable candidata para verificar estacionalidad.\n",
        "# ==============================================================================\n",
        "\n",
        "X = df_test['n5'] #Datos a evaluar (por ahora se puso un ejemplo)\n",
        "# Graficar función para exploración visual.\n",
        "plt.scatter(X.index,X)\n",
        "plt.title(\"Serie de tiempo.\")\n",
        "plt.xlabel('Tiempo')\n",
        "plt.ylabel('Valor')\n",
        "plt.show()\n",
        "\n",
        "# Prueba Dickey-Fuller aumentada (ver funciones).\n",
        "A = dickey_fuller(X,Nivel_significancia) #Esta prueba se hace para el ejemplo sobre la variable X.\n",
        "display(A)"
      ],
      "execution_count": null,
      "outputs": []
    },
    {
      "cell_type": "code",
      "metadata": {
        "id": "ZkmSz7WlUicg"
      },
      "source": [
        "#Prueba t de independencia entre cada variable independiente y la variable dependiente.\n",
        "# ==============================================================================\n",
        "B = prueba_t_ind(data,Nivel_significancia)\n",
        "display(B)\n",
        "print('')\n",
        "print('Coeficiente de correlación de Pearson.')\n",
        "display(data.corr(method='pearson'))"
      ],
      "execution_count": null,
      "outputs": []
    },
    {
      "cell_type": "markdown",
      "metadata": {
        "id": "WizLdc1NZqQE"
      },
      "source": [
        "## 6. Exploración de Datos (II).\n",
        "\n",
        "Luego de las pruebas de hipótesis se realizan las transformaciones necesarias, que para el caso sería eliminar variables del modelo.\n",
        "\n",
        "---"
      ]
    },
    {
      "cell_type": "code",
      "metadata": {
        "id": "AaYEIL-SZ23g"
      },
      "source": [
        "# Eliminar variables del modelo.\n",
        "# ==============================================================================\n",
        "# data = data.loc[:, data.columns != 'CHANCE']"
      ],
      "execution_count": null,
      "outputs": []
    },
    {
      "cell_type": "markdown",
      "metadata": {
        "id": "u9qis-0fVLgW"
      },
      "source": [
        "## 7. División de los datos en train y test y conversión a formato Numpy para ingreso a Regresión Logística\n",
        "\n",
        "Se dividen los datos de la bd \"data\" en datos X (variables independientes) y variable y (variable dependiente dicotómica), y los datos se tranforman en objetos numpy para poder aplicar la división entre datos de entrenamiento (train) y datos de prueba (test), definiendo la proporción entre datos de entrenamiento y prueba (train_size). Los datos X entran al modelo aplicando normalización, para evitar problemas de diferencias de dimensionalidad.\n",
        "\n",
        "---\n",
        "\n",
        "\n"
      ]
    },
    {
      "cell_type": "code",
      "metadata": {
        "id": "BhTKCxKwZpvi"
      },
      "source": [
        "X = data.iloc[:, 0:-1] # Se crea el conjunto de datos de las variables independientes.\n",
        "X_rl = normalize(X) # Aplicación de funcion de normalización la matriz\n",
        "X_rl = np.array(X) # Conversión de DataFrame a array de Numpy\n",
        "\n",
        "y = data.iloc[:,-1] # define los y de los datos\n",
        "y_rl = np.array(y) # Conversión de DataFrame a array de Numpy\n",
        "\n",
        "# Partición de datos en entrenamiento y testeo.\n",
        "X_train, X_test, y_train, y_test = train_test_split(X_rl,y_rl,train_size= 0.75) #División de datos en entrenamiento y testeo."
      ],
      "execution_count": null,
      "outputs": []
    },
    {
      "cell_type": "markdown",
      "metadata": {
        "id": "tpbgaE1lVVJ2"
      },
      "source": [
        "## 8. Ajuste del modelo de Regresión Logística\n",
        "\n",
        "En este apartado se realiza la corrida del modelo de Regresión Logística de Scikit Learn, con base en la data particionada en el paso anterior.\n",
        "\n",
        "---\n",
        "\n"
      ]
    },
    {
      "cell_type": "markdown",
      "metadata": {
        "id": "zGcrU_sXRu_q"
      },
      "source": [
        "### 8.1. Creación y ajuste del modelo\n",
        "\n",
        "Generación de modelo, ajuste y predicción de datos de prueba.\n",
        "\n",
        "---"
      ]
    },
    {
      "cell_type": "code",
      "metadata": {
        "id": "MBZ_fnEoUxpr"
      },
      "source": [
        "# Creación de modelo como objeto de Regresión Logística\n",
        "modelo = LogisticRegression(\n",
        "    C=1.0,\n",
        "    class_weight=None,\n",
        "    dual=False,\n",
        "    fit_intercept=True,\n",
        "    intercept_scaling=1,\n",
        "    l1_ratio=None,\n",
        "    max_iter=1000,\n",
        "    multi_class='auto',\n",
        "    n_jobs=None,\n",
        "    penalty='none',\n",
        "    random_state=None,\n",
        "    solver='lbfgs',\n",
        "    tol=0.0001,\n",
        "    verbose=0,\n",
        "    warm_start=False) \n",
        "modelo.fit(X_train, y_train) # Ajsute de modelo con los datos de entrenamiento"
      ],
      "execution_count": null,
      "outputs": []
    },
    {
      "cell_type": "markdown",
      "metadata": {
        "id": "gAvYcQjqLi2z"
      },
      "source": [
        "### 8.2. Predicción del modelo\n",
        "\n",
        "Generación de modelo, ajuste y predicción de datos de prueba.\n",
        "\n",
        "---\n",
        "\n",
        "Sobre esquema de validación cruzada:\n",
        "\n",
        "https://scikit-learn.org/stable/_images/grid_search_cross_validation.png\n",
        "\n"
      ]
    },
    {
      "cell_type": "code",
      "metadata": {
        "id": "S80k0myD_7dW"
      },
      "source": [
        "# Medición de clasificación.\n",
        "y_pred = modelo.predict(X_test) # Aplicación del modelo para predecir, con base en los datos de prueba.\n",
        "# Medición en términos probabilísticos.\n",
        "y_pred_proba = modelo.predict_proba(X_test) # Aplicación del modelo para predecir probabilísticamente.\n",
        "np.set_printoptions(formatter={'float': '{: 0.3f}'.format})\n",
        "print(y_pred_proba)"
      ],
      "execution_count": null,
      "outputs": []
    },
    {
      "cell_type": "markdown",
      "metadata": {
        "id": "J3vv8tHCVfHC"
      },
      "source": [
        "### 8.3. Información del modelo\n",
        "\n",
        "Se calculan para el modelo las medidas de desempeño, de acuerdo con la matriz de confusión, así como la significancia (a través del test de Wald) de las variables en el modelo.\n",
        "\n",
        "---\n",
        "\n"
      ]
    },
    {
      "cell_type": "code",
      "metadata": {
        "id": "XJNUqQCvNBng",
        "colab": {
          "base_uri": "https://localhost:8080/",
          "height": 893
        },
        "outputId": "14eac0b2-9564-431d-dd85-1e710b9df3e9"
      },
      "source": [
        "# Información del modelo - Coeficientes y Medidas de desempeño\n",
        "Coef_RL = coef_rl(modelo,X)\n",
        "print(' ')\n",
        "Ind_RL = indicadores_rl(y_test,y_pred)\n",
        "# df_new = pd.DataFrame(SelectKBest(chi2, k=10).fit_transform(df.drop([\"BAD\"],axis = 1),df[\"BAD\"]))"
      ],
      "execution_count": null,
      "outputs": [
        {
          "output_type": "stream",
          "name": "stdout",
          "text": [
            "Test de Wald para significancia de coeficientes.\n",
            "Hipótesis Nula (Ho): La variable no es significativa en el modelo.\n",
            "Nivel de significancia:  0.05\n"
          ]
        },
        {
          "output_type": "display_data",
          "data": {
            "text/html": [
              "<div>\n",
              "<style scoped>\n",
              "    .dataframe tbody tr th:only-of-type {\n",
              "        vertical-align: middle;\n",
              "    }\n",
              "\n",
              "    .dataframe tbody tr th {\n",
              "        vertical-align: top;\n",
              "    }\n",
              "\n",
              "    .dataframe thead th {\n",
              "        text-align: right;\n",
              "    }\n",
              "</style>\n",
              "<table border=\"1\" class=\"dataframe\">\n",
              "  <thead>\n",
              "    <tr style=\"text-align: right;\">\n",
              "      <th></th>\n",
              "      <th>Coeficiente</th>\n",
              "      <th>Valor</th>\n",
              "      <th>P-Value Wald Test</th>\n",
              "      <th>Concepto</th>\n",
              "    </tr>\n",
              "  </thead>\n",
              "  <tbody>\n",
              "    <tr>\n",
              "      <th>0</th>\n",
              "      <td>Intercepto</td>\n",
              "      <td>-112.2989</td>\n",
              "      <td>2.1682e-06</td>\n",
              "      <td>0</td>\n",
              "    </tr>\n",
              "    <tr>\n",
              "      <th>1</th>\n",
              "      <td>GRE</td>\n",
              "      <td>-0.1370</td>\n",
              "      <td>1.6380e-01</td>\n",
              "      <td>Aceptar Ho</td>\n",
              "    </tr>\n",
              "    <tr>\n",
              "      <th>2</th>\n",
              "      <td>TOEFL</td>\n",
              "      <td>0.9262</td>\n",
              "      <td>3.6566e-04</td>\n",
              "      <td>Rechazar Ho</td>\n",
              "    </tr>\n",
              "    <tr>\n",
              "      <th>3</th>\n",
              "      <td>UR</td>\n",
              "      <td>2.1392</td>\n",
              "      <td>3.5905e-03</td>\n",
              "      <td>Rechazar Ho</td>\n",
              "    </tr>\n",
              "    <tr>\n",
              "      <th>4</th>\n",
              "      <td>SOP</td>\n",
              "      <td>1.5822</td>\n",
              "      <td>1.1340e-01</td>\n",
              "      <td>Aceptar Ho</td>\n",
              "    </tr>\n",
              "    <tr>\n",
              "      <th>5</th>\n",
              "      <td>LOR</td>\n",
              "      <td>1.4798</td>\n",
              "      <td>4.0859e-02</td>\n",
              "      <td>Rechazar Ho</td>\n",
              "    </tr>\n",
              "    <tr>\n",
              "      <th>6</th>\n",
              "      <td>CGPA</td>\n",
              "      <td>3.1573</td>\n",
              "      <td>9.8325e-02</td>\n",
              "      <td>Aceptar Ho</td>\n",
              "    </tr>\n",
              "    <tr>\n",
              "      <th>7</th>\n",
              "      <td>RES</td>\n",
              "      <td>3.7664</td>\n",
              "      <td>8.3080e-03</td>\n",
              "      <td>Rechazar Ho</td>\n",
              "    </tr>\n",
              "  </tbody>\n",
              "</table>\n",
              "</div>"
            ],
            "text/plain": [
              "  Coeficiente     Valor  P-Value Wald Test     Concepto\n",
              "0  Intercepto -112.2989         2.1682e-06            0\n",
              "1         GRE   -0.1370         1.6380e-01   Aceptar Ho\n",
              "2       TOEFL    0.9262         3.6566e-04  Rechazar Ho\n",
              "3          UR    2.1392         3.5905e-03  Rechazar Ho\n",
              "4         SOP    1.5822         1.1340e-01   Aceptar Ho\n",
              "5         LOR    1.4798         4.0859e-02  Rechazar Ho\n",
              "6        CGPA    3.1573         9.8325e-02   Aceptar Ho\n",
              "7         RES    3.7664         8.3080e-03  Rechazar Ho"
            ]
          },
          "metadata": {}
        },
        {
          "output_type": "stream",
          "name": "stdout",
          "text": [
            " \n",
            "Indicadores de desempeño basados en valores predichos y reales.\n"
          ]
        },
        {
          "output_type": "display_data",
          "data": {
            "text/html": [
              "<div>\n",
              "<style scoped>\n",
              "    .dataframe tbody tr th:only-of-type {\n",
              "        vertical-align: middle;\n",
              "    }\n",
              "\n",
              "    .dataframe tbody tr th {\n",
              "        vertical-align: top;\n",
              "    }\n",
              "\n",
              "    .dataframe thead th {\n",
              "        text-align: right;\n",
              "    }\n",
              "</style>\n",
              "<table border=\"1\" class=\"dataframe\">\n",
              "  <thead>\n",
              "    <tr style=\"text-align: right;\">\n",
              "      <th></th>\n",
              "      <th>Indicador</th>\n",
              "      <th>Descripción</th>\n",
              "      <th>Fórmula</th>\n",
              "      <th>Valor</th>\n",
              "    </tr>\n",
              "  </thead>\n",
              "  <tbody>\n",
              "    <tr>\n",
              "      <th>0</th>\n",
              "      <td>Precisión</td>\n",
              "      <td>Porcentaje de casos positivos detectados</td>\n",
              "      <td>VP/(VP+FP)</td>\n",
              "      <td>0.9474</td>\n",
              "    </tr>\n",
              "    <tr>\n",
              "      <th>1</th>\n",
              "      <td>Exactitud</td>\n",
              "      <td>Tasa de exito en predicciones</td>\n",
              "      <td>(VP + VN)/(VP+VN+FV+FN)</td>\n",
              "      <td>0.9600</td>\n",
              "    </tr>\n",
              "    <tr>\n",
              "      <th>2</th>\n",
              "      <td>Especificidad</td>\n",
              "      <td>Tasa de éxito de verdaderos negativos</td>\n",
              "      <td>VN/(VN+FP).</td>\n",
              "      <td>0.9873</td>\n",
              "    </tr>\n",
              "    <tr>\n",
              "      <th>3</th>\n",
              "      <td>Sensibilidad</td>\n",
              "      <td>Tasa de éxito de verdaderos positivos</td>\n",
              "      <td>VP/(VP+FN)</td>\n",
              "      <td>0.8571</td>\n",
              "    </tr>\n",
              "    <tr>\n",
              "      <th>4</th>\n",
              "      <td>Auroc</td>\n",
              "      <td>Auroc</td>\n",
              "      <td>Auroc</td>\n",
              "      <td>0.9222</td>\n",
              "    </tr>\n",
              "    <tr>\n",
              "      <th>5</th>\n",
              "      <td>Gini</td>\n",
              "      <td>Gini</td>\n",
              "      <td>2Auroc - 1</td>\n",
              "      <td>0.8445</td>\n",
              "    </tr>\n",
              "  </tbody>\n",
              "</table>\n",
              "</div>"
            ],
            "text/plain": [
              "       Indicador                               Descripción  \\\n",
              "0      Precisión  Porcentaje de casos positivos detectados   \n",
              "1      Exactitud             Tasa de exito en predicciones   \n",
              "2  Especificidad     Tasa de éxito de verdaderos negativos   \n",
              "3   Sensibilidad     Tasa de éxito de verdaderos positivos   \n",
              "4          Auroc                                     Auroc   \n",
              "5           Gini                                      Gini   \n",
              "\n",
              "                   Fórmula   Valor  \n",
              "0               VP/(VP+FP)  0.9474  \n",
              "1  (VP + VN)/(VP+VN+FV+FN)  0.9600  \n",
              "2              VN/(VN+FP).  0.9873  \n",
              "3               VP/(VP+FN)  0.8571  \n",
              "4                    Auroc  0.9222  \n",
              "5               2Auroc - 1  0.8445  "
            ]
          },
          "metadata": {}
        },
        {
          "output_type": "display_data",
          "data": {
            "text/plain": [
              "None"
            ]
          },
          "metadata": {}
        },
        {
          "output_type": "display_data",
          "data": {
            "image/png": "[encoded data removed]",
            "text/plain": [
              "<Figure size 432x288 with 2 Axes>"
            ]
          },
          "metadata": {
            "needs_background": "light"
          }
        }
      ]
    },
    {
      "cell_type": "markdown",
      "metadata": {
        "id": "AybsN4dFSlCz"
      },
      "source": [
        "### 8.4. Predicción bajo validación cruzada (Cross Validation)\n",
        "\n",
        "Sobre esquema de validación cruzada:\n",
        "\n",
        "https://scikit-learn.org/stable/_images/grid_search_cross_validation.png\n",
        "\n",
        "---\n"
      ]
    },
    {
      "cell_type": "code",
      "metadata": {
        "id": "Oanc8bepSvt8"
      },
      "source": [
        "# Validación cruzada (para predicción, no probabilística).\n",
        "y_cross_val_predict = cross_val_predict(modelo, X_train,y_train,cv=5)\n",
        "print(y_cross_val_predict)\n",
        "# PONER LOS VALORES PREDICHOS CON LOS REALES PARA COMPARAR."
      ],
      "execution_count": null,
      "outputs": []
    },
    {
      "cell_type": "markdown",
      "metadata": {
        "id": "8LCEVVIwVofz"
      },
      "source": [
        "## 9. Ajuste de modelo de Regresión Logística con Statmodels.\n",
        "\n",
        "Este paso utiliza el modelo de la librería Statmodels para comparar con el modelo dado por Scikit Learn. Los valores cambiarán de acuerdo con el porcentaje asignado a datos de entrenamiento y datos de prueba.\n",
        "\n",
        "---\n",
        "\n"
      ]
    },
    {
      "cell_type": "code",
      "metadata": {
        "id": "w4-JDz3SNJxe"
      },
      "source": [
        "# Modelo de Statmodels\n",
        "# Aqúi trabajamos de otra forma.\n",
        "X_stats = pd.DataFrame(X_train)\n",
        "X_stats = sm.add_constant(X_stats, prepend=True)\n",
        "X_stats.columns = ['Intercepto'] + X.columns.to_list()\n",
        "X_stats\n",
        "modelo_stats = sm.Logit(endog=y_train, exog=X_stats)\n",
        "modelo_stats = modelo_stats.fit()\n",
        "print(modelo_stats.summary())"
      ],
      "execution_count": null,
      "outputs": []
    },
    {
      "cell_type": "markdown",
      "metadata": {
        "id": "-UqQIHEkRJUt"
      },
      "source": [
        "## 10. Ajuste de modelo con Árboles de Decisión.\n",
        "\n",
        "Este paso utiliza el modelo de la librería Statmodels para comparar con el modelo dado por Scikit Learn. Los valores cambiarán de acuerdo con el porcentaje asignado a datos de entrenamiento y datos de prueba.\n",
        "\n",
        "---\n"
      ]
    },
    {
      "cell_type": "markdown",
      "metadata": {
        "id": "wQxOjoWA7BqC"
      },
      "source": [
        "### 10.1. Creación del modelo.\n",
        "\n",
        "Generación de modelo, ajuste y predicción de datos de prueba.\n",
        "\n",
        "---"
      ]
    },
    {
      "cell_type": "code",
      "metadata": {
        "id": "5QKKl2aeRJgz"
      },
      "source": [
        "# Creación de modelo como objeto de Árbol de Decisión.\n",
        "modelo_arbol = DecisionTreeClassifier(\n",
        "    ccp_alpha=0.0,\n",
        "    class_weight=None,\n",
        "    criterion='gini',\n",
        "    max_depth=None,\n",
        "    max_features=None,\n",
        "    max_leaf_nodes=None,\n",
        "    min_impurity_decrease=0.0,\n",
        "    min_impurity_split=None,\n",
        "    min_samples_leaf=1,\n",
        "    min_samples_split=2,\n",
        "    min_weight_fraction_leaf=0.0,\n",
        "    presort='deprecated',\n",
        "    random_state=None,\n",
        "    splitter='best'\n",
        "    )\n",
        "# Training the basic Decision Tree model with training set \n",
        "modelo_arbol.fit(X_train,y_train)\n",
        "y_pred_arbol = modelo_arbol.predict(X_test)"
      ],
      "execution_count": null,
      "outputs": []
    },
    {
      "cell_type": "markdown",
      "metadata": {
        "id": "wbHjrUJEG9SJ"
      },
      "source": [
        "### 10.2. Información del modelo\n",
        "\n",
        "Se calculan para el modelo las medidas de desempeño, de acuerdo con la matriz de confusión, así como la significancia (a través del test de Wald) de las variables en el modelo.\n",
        "\n",
        "---"
      ]
    },
    {
      "cell_type": "code",
      "metadata": {
        "id": "n2ZAtMWqw041"
      },
      "source": [
        "Ind_arbol = indicadores_rl(y_test,y_pred_arbol)"
      ],
      "execution_count": null,
      "outputs": []
    },
    {
      "cell_type": "code",
      "metadata": {
        "id": "voPdZEs3kDGZ"
      },
      "source": [
        "# Graficar un árbol de decisión.\n",
        "dot_dat = tree.export_graphviz(modelo_arbol, out_file=None) \n",
        "graph = graphviz.Source(dot_dat) \n",
        "graph"
      ],
      "execution_count": null,
      "outputs": []
    }
  ]
}